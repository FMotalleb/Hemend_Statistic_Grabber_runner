{
 "cells": [
  {
   "cell_type": "code",
   "execution_count": 2,
   "metadata": {},
   "outputs": [],
   "source": [
    "import serial\n",
    "import pandas as pd\n",
    "from configparser import ConfigParser as cfgParser\n",
    "from persiantools.jdatetime import JalaliDateTime as jd\n",
    "from datetime import datetime\n",
    "import time\n",
    "import json\n",
    "import requests\n",
    "def delay(seconds: float):\n",
    "    time.sleep(seconds)\n",
    "\n",
    "\n",
    "configDir='./config/'\n",
    "settingsPath=configDir+'settings.ini'"
   ]
  },
  {
   "cell_type": "code",
   "execution_count": 5,
   "metadata": {},
   "outputs": [],
   "source": [
    "#loading information\n",
    "settings=cfgParser()\n",
    "settings.read(settingsPath)\n",
    "\n",
    "dateTimeTemp = jd.now().isoformat()\n",
    "\n",
    "# load output file path and user mapper\n",
    "PLAIN_OUTPUT_CSV_FILE = settings.get(\n",
    "    'Path', 'PLAIN_OUTPUT_CSV_FILE').replace('%dt', dateTimeTemp)\n",
    "BACKUP_OUTPUT_CSV_FILE = settings.get(\n",
    "    'Path', 'BACKUP_OUTPUT_CSV_FILE').replace('%dt', dateTimeTemp)\n",
    "FINAL_OUTPUT_CSV_FILE = settings.get(\n",
    "    'Path', 'FINAL_OUTPUT_CSV_FILE').replace('%dt', dateTimeTemp)\n",
    "FINAL_OUTPUT_XLSX_FILE = settings.get(\n",
    "    'Path', 'FINAL_OUTPUT_XLSX_FILE').replace('%dt', dateTimeTemp)\n",
    "USERS_DICTIONARY_CSV_FILE = settings.get('Path', 'USERS_DICTIONARY_CSV_FILE')\n",
    "usersMap = pd.read_csv(USERS_DICTIONARY_CSV_FILE)\n",
    "\n",
    "# board info\n",
    "SERIAL_PORT_NAME = settings.get('SerialConfig', 'SERIAL_PORT_NAME')\n",
    "SERIAL_BAUD_RATE = settings.getint('SerialConfig', 'SERIAL_BAUD_RATE')\n",
    "\n",
    "# commands\n",
    "READ_FILE_COMMAND = settings.get('Commands', 'READ_FILE_COMMAND')\n",
    "DELETE_FILE_COMMAND = settings.get('Commands', 'DELETE_FILE_COMMAND')\n",
    "SET_TIME_COMMAND = settings.get('Commands', 'SET_TIME_COMMAND')\n",
    "\n",
    "# output formatter settings\n",
    "TEXT_FORMATTER_PREFIX = settings.get('Formatting', 'PREFIX_TEXT')\n",
    "TEXT_FORMATTER_SUFFIX = settings.get('Formatting', 'SUFFIX_TEXT')\n",
    "TEXT_FORMATTER_BOOT = settings.get('Formatting', 'BOOT_TEXT')\n",
    "TEXT_FORMATTER_ERROR = settings.get('Formatting', 'ERROR_TEXT')\n",
    "BASE_ENCODING = 'utf-8'\n",
    "\n",
    "\n",
    "usersMap=pd.read_csv(USERS_DICTIONARY_CSV_FILE)"
   ]
  },
  {
   "cell_type": "code",
   "execution_count": 3,
   "metadata": {},
   "outputs": [],
   "source": [
    "\n",
    "print('connecting to board')\n",
    "serialClient = serial.Serial(SERIAL_PORT_NAME, SERIAL_BAUD_RATE)\n",
    "\n",
    "\n",
    "def sendCommand(command):\n",
    "    b = bytes(command, BASE_ENCODING)\n",
    "    serialClient.write(b)\n",
    "\n",
    "waitingForBoot = True\n",
    "while(waitingForBoot):\n",
    "    line = str(serialClient.readline().decode(BASE_ENCODING))\n",
    "    if line.rfind(TEXT_FORMATTER_BOOT) >= 0:\n",
    "        waitingForBoot = False\n",
    "print('Boot Completed')\n",
    "delay(1)"
   ]
  },
  {
   "cell_type": "code",
   "execution_count": 4,
   "metadata": {},
   "outputs": [],
   "source": [
    "\n",
    "print('sync time')\n",
    "timeCommand = SET_TIME_COMMAND.replace('#year', str(datetime.now().year).rjust(4, '0')).replace('#month', str(datetime.now().month).rjust(2, '0')).replace('#day', str(datetime.now().day).rjust(2, '0')).replace('#hour', str(\n",
    "    datetime.now().hour).rjust(2, '0')).replace('#minute', str(datetime.now().minute).rjust(2, '0')).replace('#seconds', str(datetime.now().second).rjust(2, '0')).replace('12OfWeek', str((datetime.now().weekday()+1) % 7+1))\n",
    "sendCommand(timeCommand)\n",
    "delay(1)"
   ]
  },
  {
   "cell_type": "code",
   "execution_count": 5,
   "metadata": {},
   "outputs": [
    {
     "name": "stdout",
     "output_type": "stream",
     "text": [
      "BOOT\n",
      "\n",
      "LOGFILE_BEGIN\n",
      "\n",
      "73B59397,2022-03-14 15:21\n",
      "\n",
      "B3FB3797,2022-03-14 15:22\n",
      "\n",
      "73659297,2022-03-14 15:22\n",
      "\n",
      "396458C2,2022-03-14 15:23\n",
      "\n",
      "6CE1D55B,2022-03-14 15:23\n",
      "\n",
      "63034997,2022-03-14 15:23\n",
      "\n",
      "03796897,2022-03-14 15:23\n",
      "\n",
      "C3C88197,2022-03-14 15:23\n",
      "\n",
      "632A1497,2022-03-14 15:24\n",
      "\n",
      "73756997,2022-03-14 15:24\n",
      "\n",
      "LOGFILE_END\n",
      "\n"
     ]
    }
   ],
   "source": [
    "\n",
    "print('reading log file')\n",
    "sendCommand(READ_FILE_COMMAND)\n",
    "fileReader = True\n",
    "logData = ''\n",
    "while(fileReader):\n",
    "    line = str(serialClient.readline().decode(BASE_ENCODING))\n",
    "    logData += line\n",
    "    print(line)\n",
    "    if line.rfind(TEXT_FORMATTER_SUFFIX) >= 0:\n",
    "        fileReader = False\n",
    "    if line.rfind(TEXT_FORMATTER_ERROR) >= 0:\n",
    "        raise Exception(\n",
    "            \"File is not found or there is error in log file reader method if you know there should be a file please restart the board otherwise use a tag on board and try again\")\n",
    "logData = logData.replace(TEXT_FORMATTER_BOOT, '')\n",
    "logData = logData.replace(TEXT_FORMATTER_PREFIX, '')\n",
    "logData = logData.replace(TEXT_FORMATTER_SUFFIX, '')\n",
    "logData.replace('\\r\\n', '\\n')\n",
    "logData.replace('\\r', '')\n",
    "delay(1)\n"
   ]
  },
  {
   "cell_type": "code",
   "execution_count": 6,
   "metadata": {},
   "outputs": [],
   "source": [
    "import sys\n",
    "for i in sys.argv:\n",
    "    print('sending command : '+i)\n",
    "    sendCommand(i)\n",
    "    delay(1)\n",
    "\n"
   ]
  },
  {
   "cell_type": "code",
   "execution_count": 7,
   "metadata": {},
   "outputs": [],
   "source": [
    "print('writing to backup')\n",
    "f = open(BACKUP_OUTPUT_CSV_FILE, \"a\")\n",
    "f.write(logData)\n",
    "f.close()"
   ]
  },
  {
   "cell_type": "code",
   "execution_count": null,
   "metadata": {},
   "outputs": [],
   "source": [
    "def formatDateTime(input):\n",
    "    date = datetime.fromisoformat(input)\n",
    "    return (jd.to_jalali(date).isoformat().replace('T', ' '))"
   ]
  },
  {
   "cell_type": "code",
   "execution_count": null,
   "metadata": {},
   "outputs": [],
   "source": [
    "\n",
    "print('final formatting')\n",
    "\n",
    "for index, row in usersMap.iterrows():\n",
    "    logData = logData.replace(row['BOARD_ID'], row['USER_ID'])\n",
    "logData = logData.replace('\\n\\n', '\\n')\n",
    "\n",
    "\n",
    "f = open(PLAIN_OUTPUT_CSV_FILE, \"w\")\n",
    "f.write('id,date_time'+logData)\n",
    "f.close()\n"
   ]
  },
  {
   "cell_type": "code",
   "execution_count": 7,
   "metadata": {},
   "outputs": [],
   "source": [
    "# def formatDateTime(input):\n",
    "#     date=datetime.fromisoformat(input)\n",
    "#     return (jd.to_jalali(date).isoformat())"
   ]
  },
  {
   "cell_type": "code",
   "execution_count": 6,
   "metadata": {},
   "outputs": [],
   "source": [
    "\n",
    "# reformat data\n",
    "data = pd.read_csv(PLAIN_OUTPUT_CSV_FILE)\n",
    "for index, row in data.iterrows():\n",
    "    row['DATE_TIME'] = formatDateTime(row['DATE_TIME'])\n",
    "data.to_csv(FINAL_OUTPUT_CSV_FILE)\n",
    "data.to_excel(FINAL_OUTPUT_XLSX_FILE)\n"
   ]
  },
  {
   "cell_type": "code",
   "execution_count": null,
   "metadata": {},
   "outputs": [],
   "source": [
    "dateTimeKey='date_time'\n",
    "dateKey='date'\n",
    "timeKey='time'\n",
    "idKey='id'\n",
    "presentKey='is_in'"
   ]
  },
  {
   "cell_type": "code",
   "execution_count": null,
   "metadata": {},
   "outputs": [],
   "source": [
    "data=pd.read_csv('result.csv')\n",
    "data.insert(len(data.columns), presentKey, 0)\n",
    "data.head()"
   ]
  },
  {
   "cell_type": "code",
   "execution_count": null,
   "metadata": {},
   "outputs": [],
   "source": [
    "def getKey(row):\n",
    "    return row[dateKey]+row[idKey]\n",
    "userIn=[]\n",
    "for i in range(len(data)):\n",
    "    item=data.iloc[i]\n",
    "    \n",
    "    if(getKey(item) not in userIn):\n",
    "        data.iat[i, data.columns.get_loc(presentKey)] =1\n",
    "        userIn.append(getKey(item))\n",
    "    else:\n",
    "        data.iat[i, data.columns.get_loc(presentKey)] =0\n",
    "        userIn.remove(getKey(item))\n",
    "data.head(500)"
   ]
  },
  {
   "cell_type": "code",
   "execution_count": null,
   "metadata": {},
   "outputs": [],
   "source": [
    "\n",
    "jsonData=data.to_json(orient ='records')\n",
    "\n",
    "url = 'https://staff.hemend.com/api/attendance'\n",
    "x = requests.post(url, json = {\n",
    "    'data':json.loads(jsonData)\n",
    "})\n",
    "print(x.text)"
   ]
  }
 ],
 "metadata": {
  "interpreter": {
   "hash": "67fc513d93b0e67b7c87cf6f35a712c1d5408d138f170656f5d367d2feb6a20b"
  },
  "kernelspec": {
   "display_name": "Python 3.9.7 ('base')",
   "language": "python",
   "name": "python3"
  },
  "language_info": {
   "codemirror_mode": {
    "name": "ipython",
    "version": 3
   },
   "file_extension": ".py",
   "mimetype": "text/x-python",
   "name": "python",
   "nbconvert_exporter": "python",
   "pygments_lexer": "ipython3",
   "version": "3.9.7"
  },
  "orig_nbformat": 4
 },
 "nbformat": 4,
 "nbformat_minor": 2
}
