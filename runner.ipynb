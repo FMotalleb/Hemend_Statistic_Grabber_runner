{
 "cells": [
  {
   "cell_type": "code",
   "execution_count": 1,
   "metadata": {},
   "outputs": [],
   "source": [
    "import serial\n",
    "import pandas as pd\n",
    "from configparser import ConfigParser as cfgParser\n",
    "from persiantools.jdatetime import JalaliDateTime as jd\n",
    "from datetime import datetime\n",
    "import time\n",
    "\n",
    "configDir='./config/'\n",
    "settingsPath=configDir+'settings.ini'"
   ]
  },
  {
   "cell_type": "code",
   "execution_count": 2,
   "metadata": {},
   "outputs": [],
   "source": [
    "#loading information\n",
    "settings=cfgParser()\n",
    "settings.read(settingsPath)\n",
    "\n",
    "PLAIN_OUTPUT_FILE=settings.get('Path','PLAIN_OUTPUT_FILE')\n",
    "BACKUP_OUTPUT_FILE=settings.get('Path','BACKUP_OUTPUT_FILE')\n",
    "FINAL_OUTPUT_FILE=settings.get('Path','FINAL_OUTPUT_FILE')\n",
    "USERS_DICTIONARY_FILE=settings.get('Path','USERS_DICTIONARY_FILE')\n",
    "\n",
    "SERIAL_PORT_NAME=settings.get('SerialConfig','SERIAL_PORT_NAME')\n",
    "SERIAL_BAUD_RATE=settings.getint('SerialConfig','SERIAL_BAUD_RATE')\n",
    "\n",
    "READ_FILE_COMMAND=settings.get('Commands','READ_FILE_COMMAND')\n",
    "DELETE_FILE_COMMAND=settings.get('Commands','DELETE_FILE_COMMAND')\n",
    "SET_TIME_COMMAND=settings.get('Commands','SET_TIME_COMMAND')\n",
    "\n",
    "TEXT_FORMATTER_PREFIX=settings.get('Formatting','PREFIX_TEXT')\n",
    "TEXT_FORMATTER_SUFFIX=settings.get('Formatting','SUFFIX_TEXT')\n",
    "TEXT_FORMATTER_BOOT=settings.get('Formatting','BOOT_TEXT')\n",
    "TEXT_FORMATTER_ERROR=settings.get('Formatting','ERROR_TEXT')\n",
    "\n",
    "BASE_ENCODING='utf-8'\n",
    "\n",
    "usersMap=pd.read_csv(USERS_DICTIONARY_FILE)"
   ]
  },
  {
   "cell_type": "code",
   "execution_count": 3,
   "metadata": {},
   "outputs": [],
   "source": [
    "#connect to board\n",
    "serialClient = serial.Serial(SERIAL_PORT_NAME, SERIAL_BAUD_RATE)\n",
    "def sendCommand(command):\n",
    "    b = bytes(command, BASE_ENCODING)\n",
    "    serialClient.write(b)\n",
    "time.sleep(7)"
   ]
  },
  {
   "cell_type": "code",
   "execution_count": 4,
   "metadata": {},
   "outputs": [],
   "source": [
    "#sync time\n",
    "\n",
    "timeCommand=SET_TIME_COMMAND.replace('#year',str(datetime.now().year).rjust(4,'0')).replace('#month',str(datetime.now().month).rjust(2,'0')).replace('#day',str(datetime.now().day).rjust(2,'0')).replace('#hour',str(datetime.now().hour).rjust(2,'0')).replace('#minute',str(datetime.now().minute).rjust(2,'0')).replace('#seconds',str(datetime.now().second).rjust(2,'0')).replace('12OfWeek',str((datetime.now().weekday()+1)%7+1))\n",
    "sendCommand(timeCommand)\n",
    "time.sleep(1)"
   ]
  },
  {
   "cell_type": "code",
   "execution_count": 5,
   "metadata": {},
   "outputs": [
    {
     "name": "stdout",
     "output_type": "stream",
     "text": [
      "BOOT\n",
      "\n",
      "LOGFILE_BEGIN\n",
      "\n",
      "73B59397,2022-03-14 15:21\n",
      "\n",
      "B3FB3797,2022-03-14 15:22\n",
      "\n",
      "73659297,2022-03-14 15:22\n",
      "\n",
      "396458C2,2022-03-14 15:23\n",
      "\n",
      "6CE1D55B,2022-03-14 15:23\n",
      "\n",
      "63034997,2022-03-14 15:23\n",
      "\n",
      "03796897,2022-03-14 15:23\n",
      "\n",
      "C3C88197,2022-03-14 15:23\n",
      "\n",
      "632A1497,2022-03-14 15:24\n",
      "\n",
      "73756997,2022-03-14 15:24\n",
      "\n",
      "LOGFILE_END\n",
      "\n"
     ]
    }
   ],
   "source": [
    "#read data\n",
    "sendCommand(READ_FILE_COMMAND)\n",
    "fileReader=True\n",
    "logData=''\n",
    "while(fileReader):\n",
    "    line = str(serialClient.readline().decode(BASE_ENCODING))\n",
    "    logData+=line\n",
    "    print(line)\n",
    "    if line.rfind(TEXT_FORMATTER_SUFFIX)>=0:\n",
    "        fileReader=False\n",
    "    if line.rfind(TEXT_FORMATTER_ERROR):\n",
    "        raise Exception(\"File is not found or there is error in log file reader method if you know there should be a file please restart the board otherwise use a tag on board and try again\")\n",
    "logData=logData.replace(TEXT_FORMATTER_BOOT,'')\n",
    "logData=logData.replace(TEXT_FORMATTER_PREFIX,'')\n",
    "logData=logData.replace(TEXT_FORMATTER_SUFFIX,'')\n",
    "logData.replace('\\r\\n','\\n')\n",
    "logData.replace('\\r','')\n",
    "time.sleep(1)\n"
   ]
  },
  {
   "cell_type": "code",
   "execution_count": 6,
   "metadata": {},
   "outputs": [],
   "source": [
    "# sendCommand(DELETE_FILE_COMMAND)"
   ]
  },
  {
   "cell_type": "code",
   "execution_count": 7,
   "metadata": {},
   "outputs": [],
   "source": [
    "#backup\n",
    "f = open(BACKUP_OUTPUT_FILE, \"a\")\n",
    "f.write(logData)\n",
    "f.close()"
   ]
  },
  {
   "cell_type": "code",
   "execution_count": null,
   "metadata": {},
   "outputs": [],
   "source": [
    "for index, row in usersMap.iterrows():\n",
    "    logData=logData.replace(row['BOARD_ID'],row['USER_ID'])\n",
    "logData=logData.replace('\\n\\n','\\n')"
   ]
  },
  {
   "cell_type": "code",
   "execution_count": null,
   "metadata": {},
   "outputs": [],
   "source": [
    "#savePlain\n",
    "f = open(PLAIN_OUTPUT_FILE, \"w\")\n",
    "f.write('ID,DATE_TIME'+logData)\n",
    "f.close()"
   ]
  },
  {
   "cell_type": "code",
   "execution_count": 7,
   "metadata": {},
   "outputs": [],
   "source": [
    "def formatDateTime(input):\n",
    "    date=datetime.fromisoformat(input)\n",
    "    return (jd.to_jalali(date).isoformat())"
   ]
  },
  {
   "cell_type": "code",
   "execution_count": 10,
   "metadata": {},
   "outputs": [],
   "source": [
    "#reformat data\n",
    "data=pd.read_csv(PLAIN_OUTPUT_FILE)\n",
    "for index, row in data.iterrows():\n",
    "    row['DATE_TIME']=formatDateTime(row['DATE_TIME'])\n",
    "data.to_csv(FINAL_OUTPUT_FILE)"
   ]
  },
  {
   "cell_type": "code",
   "execution_count": null,
   "metadata": {},
   "outputs": [],
   "source": [
    "# f = open(FINAL_OUTPUT_FILE, \"w\")\n",
    "# f.write('ID,DATE_TIME'+logData)\n",
    "# f.close()"
   ]
  }
 ],
 "metadata": {
  "interpreter": {
   "hash": "67fc513d93b0e67b7c87cf6f35a712c1d5408d138f170656f5d367d2feb6a20b"
  },
  "kernelspec": {
   "display_name": "Python 3.9.7 ('base')",
   "language": "python",
   "name": "python3"
  },
  "language_info": {
   "codemirror_mode": {
    "name": "ipython",
    "version": 3
   },
   "file_extension": ".py",
   "mimetype": "text/x-python",
   "name": "python",
   "nbconvert_exporter": "python",
   "pygments_lexer": "ipython3",
   "version": "3.9.7"
  },
  "orig_nbformat": 4
 },
 "nbformat": 4,
 "nbformat_minor": 2
}
